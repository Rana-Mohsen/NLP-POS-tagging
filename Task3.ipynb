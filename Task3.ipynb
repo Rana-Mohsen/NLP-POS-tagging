{
  "cells": [
    {
      "cell_type": "code",
      "execution_count": 2,
      "metadata": {
        "colab": {
          "base_uri": "https://localhost:8080/"
        },
        "id": "Ma3bvPOsUy9Y",
        "outputId": "865091e7-ccb5-45a9-faed-939bf9c93019"
      },
      "outputs": [
        {
          "name": "stdout",
          "output_type": "stream",
          "text": [
            "['thirty-three scotty did not go back to school .', 'his parents talked seriously and lengthily to their own doctor and to a specialist at the university hospital -- mr. mckinley was entitled to a discount for members of his family -- and it was decided it would be best for him to take the remainder of the term off , spend a lot of time in bed and , for the rest , do pretty much as he chose -- provided , of course , he chose to do nothing too exciting or too debilitating .', 'his teacher and his school principal were conferred with and everyone agreed that , if he kept up with a certain amount of work at home , there was little danger of his losing a term .', 'scotty accepted the decision with indifference and did not enter the arguments .', \"he was discharged from the hospital after a two-day checkup and he and his parents had what mr. mckinley described as a `` celebration lunch '' at the cafeteria on the campus .\", 'rachel wore a smart hat and , because she had been warned recently about smoking , puffed at her cigarettes through a long ivory holder stained with lipstick .', \"scotty's father sat sprawled in his chair , angular , alert as a cricket , looking about at the huge stainless-steel appointments of the room with an expression of proprietorship .\", 'teachers -- men who wore brown suits and had gray hair and pleasant smiles -- came to their table to talk shop and to be introduced to scotty and rachel .', 'rachel was polite , scotty indifferent .', 'they ate the cafeteria food with its orange sauces and scotty gazed without interest at his food , the teachers , the heroic baronial windows , and the bright ranks of college banners .', 'his father tried to make the food a topic .', '`` the blueberry pie is good , scotty .', \"i recommend it '' .\", 'he looked at his son , his face worried .', \"scotty murmured , `` no , thanks '' , so softly his father had to bend his gaunt height across the table and turn a round brown ear to him .\", 'scotty regarded the ear and the grizzled hair around it with a moment of interest .', \"he said more loudly , `` i'm full , old pop '' .\", 'he had eaten almost nothing on the crested , three-sectioned plate and had drunk about half the milk in its paper container .', \"`` he's all right , craig '' , rachel said .\", \"`` i can fix him something later in the afternoon when we get home '' .\", 'since his seizure , scotty had had little appetite ; ; yet his changed appearance , surprisingly , was one of plumpness .', 'his face was fuller ; ; his lips and the usually sharp lines of his jaw had become swollen-looking .', 'he breathed now with his mouth open , showing a whitely curving section of lower teeth ; ; he kept his eyes , with their puffed blurred lids , always lowered , though not , apparently , focusing .', 'even his neck seemed thicker and , therefore , shorter .', 'his hands , which had been as quick as a pair of fluttering birds , were now neither active nor really relaxed .', 'they lay on his lap , palms up , stiffly motionless , the tapered fingers a little thick at the joints .', 'altogether he had , since the seizure , the appearance of a boy who overindulged in food and took no exercise .', 'he looked lazy , spoiled , a little querulous .', 'rachel had little to say .', \"she greeted her husband's colleagues with smiling politeness , offering nothing .\", \"mr. mckinley , for all his sprawling and his easy familiarity , was completely alert to his son , eyes always on the still face , jumping to anticipate scotty's desires .\", 'it was a strained , silent lunch .', \"rachel said , `` i'd better get him to bed '' .\", 'the doctors had suggested scotty remain most of every afternoon in bed until he was stronger .', 'since mr. mckinley had to give a lecture , rachel and scotty drove home alone in the plymouth .', 'they did not speak much .', \"scotty gazed out at ugly gray slums and said softly , `` look at those stupid kids '' .\", 'it was a negro section of peeling row houses , store-front churches and ragged children .', 'rachel had to bend toward scotty and ask him to repeat .', \"he said , `` nothing '' .\", \"and then : `` there are lots of kids around here '' .\", 'scotty looked at the children , his mouth slightly opened , his eyes dull .', 'he felt tired and full and calm .', 'thirty-four the days seemed short , perhaps because his routine was , each day , almost the same .', 'he rose late and went down in his bathrobe and slippers to have breakfast either alone or with rachel .', 'virginia treated him with attention and tried to tempt his appetite with special food : biscuits , cookies , candies -- the result of devoted hours in the tiled kitchen .', \"she would hover over him and , looking like her brother , anxiously watch the progress of scotty's fork or spoon .\", \"`` you don't eat enough , honey .\", \"try to get that down '' .\", 'rachel , observing , would say , `` he has to rediscover his own capacity .', \"it'll take time '' .\", 'virginia and rachel talked to each other quietly now , as allies who are political rather than natural might in a war atmosphere .', 'both watched scotty constantly , rachel without seeming to , virginia openly , her eyes filled with concern .']\n",
            "[['thirty-three', 'scotty', 'did', 'not', 'go', 'back', 'to', 'school', '.'], ['his', 'parents', 'talked', 'seriously', 'and', 'lengthily', 'to', 'their', 'own', 'doctor', 'and', 'to', 'a', 'specialist', 'at', 'the', 'university', 'hospital', '--', 'mr.', 'mckinley', 'was', 'entitled', 'to', 'a', 'discount', 'for', 'members', 'of', 'his', 'family', '--', 'and', 'it', 'was', 'decided', 'it', 'would', 'be', 'best', 'for', 'him', 'to', 'take', 'the', 'remainder', 'of', 'the', 'term', 'off', ',', 'spend', 'a', 'lot', 'of', 'time', 'in', 'bed', 'and', ',', 'for', 'the', 'rest', ',', 'do', 'pretty', 'much', 'as', 'he', 'chose', '--', 'provided', ',', 'of', 'course', ',', 'he', 'chose', 'to', 'do', 'nothing', 'too', 'exciting', 'or', 'too', 'debilitating', '.'], ['his', 'teacher', 'and', 'his', 'school', 'principal', 'were', 'conferred', 'with', 'and', 'everyone', 'agreed', 'that', ',', 'if', 'he', 'kept', 'up', 'with', 'a', 'certain', 'amount', 'of', 'work', 'at', 'home', ',', 'there', 'was', 'little', 'danger', 'of', 'his', 'losing', 'a', 'term', '.'], ['scotty', 'accepted', 'the', 'decision', 'with', 'indifference', 'and', 'did', 'not', 'enter', 'the', 'arguments', '.'], ['he', 'was', 'discharged', 'from', 'the', 'hospital', 'after', 'a', 'two-day', 'checkup', 'and', 'he', 'and', 'his', 'parents', 'had', 'what', 'mr.', 'mckinley', 'described', 'as', 'a', '``', 'celebration', 'lunch', '``', 'at', 'the', 'cafeteria', 'on', 'the', 'campus', '.'], ['rachel', 'wore', 'a', 'smart', 'hat', 'and', ',', 'because', 'she', 'had', 'been', 'warned', 'recently', 'about', 'smoking', ',', 'puffed', 'at', 'her', 'cigarettes', 'through', 'a', 'long', 'ivory', 'holder', 'stained', 'with', 'lipstick', '.'], ['scotty', \"'s\", 'father', 'sat', 'sprawled', 'in', 'his', 'chair', ',', 'angular', ',', 'alert', 'as', 'a', 'cricket', ',', 'looking', 'about', 'at', 'the', 'huge', 'stainless-steel', 'appointments', 'of', 'the', 'room', 'with', 'an', 'expression', 'of', 'proprietorship', '.'], ['teachers', '--', 'men', 'who', 'wore', 'brown', 'suits', 'and', 'had', 'gray', 'hair', 'and', 'pleasant', 'smiles', '--', 'came', 'to', 'their', 'table', 'to', 'talk', 'shop', 'and', 'to', 'be', 'introduced', 'to', 'scotty', 'and', 'rachel', '.'], ['rachel', 'was', 'polite', ',', 'scotty', 'indifferent', '.'], ['they', 'ate', 'the', 'cafeteria', 'food', 'with', 'its', 'orange', 'sauces', 'and', 'scotty', 'gazed', 'without', 'interest', 'at', 'his', 'food', ',', 'the', 'teachers', ',', 'the', 'heroic', 'baronial', 'windows', ',', 'and', 'the', 'bright', 'ranks', 'of', 'college', 'banners', '.'], ['his', 'father', 'tried', 'to', 'make', 'the', 'food', 'a', 'topic', '.'], ['``', 'the', 'blueberry', 'pie', 'is', 'good', ',', 'scotty', '.'], ['i', 'recommend', 'it', '``', '.'], ['he', 'looked', 'at', 'his', 'son', ',', 'his', 'face', 'worried', '.'], ['scotty', 'murmured', ',', '``', 'no', ',', 'thanks', '``', ',', 'so', 'softly', 'his', 'father', 'had', 'to', 'bend', 'his', 'gaunt', 'height', 'across', 'the', 'table', 'and', 'turn', 'a', 'round', 'brown', 'ear', 'to', 'him', '.'], ['scotty', 'regarded', 'the', 'ear', 'and', 'the', 'grizzled', 'hair', 'around', 'it', 'with', 'a', 'moment', 'of', 'interest', '.'], ['he', 'said', 'more', 'loudly', ',', '``', 'i', \"'m\", 'full', ',', 'old', 'pop', '``', '.'], ['he', 'had', 'eaten', 'almost', 'nothing', 'on', 'the', 'crested', ',', 'three-sectioned', 'plate', 'and', 'had', 'drunk', 'about', 'half', 'the', 'milk', 'in', 'its', 'paper', 'container', '.'], ['``', 'he', \"'s\", 'all', 'right', ',', 'craig', '``', ',', 'rachel', 'said', '.'], ['``', 'i', 'can', 'fix', 'him', 'something', 'later', 'in', 'the', 'afternoon', 'when', 'we', 'get', 'home', '``', '.'], ['since', 'his', 'seizure', ',', 'scotty', 'had', 'had', 'little', 'appetite', ';', ';', 'yet', 'his', 'changed', 'appearance', ',', 'surprisingly', ',', 'was', 'one', 'of', 'plumpness', '.'], ['his', 'face', 'was', 'fuller', ';', ';', 'his', 'lips', 'and', 'the', 'usually', 'sharp', 'lines', 'of', 'his', 'jaw', 'had', 'become', 'swollen-looking', '.'], ['he', 'breathed', 'now', 'with', 'his', 'mouth', 'open', ',', 'showing', 'a', 'whitely', 'curving', 'section', 'of', 'lower', 'teeth', ';', ';', 'he', 'kept', 'his', 'eyes', ',', 'with', 'their', 'puffed', 'blurred', 'lids', ',', 'always', 'lowered', ',', 'though', 'not', ',', 'apparently', ',', 'focusing', '.'], ['even', 'his', 'neck', 'seemed', 'thicker', 'and', ',', 'therefore', ',', 'shorter', '.'], ['his', 'hands', ',', 'which', 'had', 'been', 'as', 'quick', 'as', 'a', 'pair', 'of', 'fluttering', 'birds', ',', 'were', 'now', 'neither', 'active', 'nor', 'really', 'relaxed', '.'], ['they', 'lay', 'on', 'his', 'lap', ',', 'palms', 'up', ',', 'stiffly', 'motionless', ',', 'the', 'tapered', 'fingers', 'a', 'little', 'thick', 'at', 'the', 'joints', '.'], ['altogether', 'he', 'had', ',', 'since', 'the', 'seizure', ',', 'the', 'appearance', 'of', 'a', 'boy', 'who', 'overindulged', 'in', 'food', 'and', 'took', 'no', 'exercise', '.'], ['he', 'looked', 'lazy', ',', 'spoiled', ',', 'a', 'little', 'querulous', '.'], ['rachel', 'had', 'little', 'to', 'say', '.'], ['she', 'greeted', 'her', 'husband', \"'s\", 'colleagues', 'with', 'smiling', 'politeness', ',', 'offering', 'nothing', '.'], ['mr.', 'mckinley', ',', 'for', 'all', 'his', 'sprawling', 'and', 'his', 'easy', 'familiarity', ',', 'was', 'completely', 'alert', 'to', 'his', 'son', ',', 'eyes', 'always', 'on', 'the', 'still', 'face', ',', 'jumping', 'to', 'anticipate', 'scotty', \"'s\", 'desires', '.'], ['it', 'was', 'a', 'strained', ',', 'silent', 'lunch', '.'], ['rachel', 'said', ',', '``', 'i', \"'d\", 'better', 'get', 'him', 'to', 'bed', '``', '.'], ['the', 'doctors', 'had', 'suggested', 'scotty', 'remain', 'most', 'of', 'every', 'afternoon', 'in', 'bed', 'until', 'he', 'was', 'stronger', '.'], ['since', 'mr.', 'mckinley', 'had', 'to', 'give', 'a', 'lecture', ',', 'rachel', 'and', 'scotty', 'drove', 'home', 'alone', 'in', 'the', 'plymouth', '.'], ['they', 'did', 'not', 'speak', 'much', '.'], ['scotty', 'gazed', 'out', 'at', 'ugly', 'gray', 'slums', 'and', 'said', 'softly', ',', '``', 'look', 'at', 'those', 'stupid', 'kids', '``', '.'], ['it', 'was', 'a', 'negro', 'section', 'of', 'peeling', 'row', 'houses', ',', 'store-front', 'churches', 'and', 'ragged', 'children', '.'], ['rachel', 'had', 'to', 'bend', 'toward', 'scotty', 'and', 'ask', 'him', 'to', 'repeat', '.'], ['he', 'said', ',', '``', 'nothing', '``', '.'], ['and', 'then', ':', '``', 'there', 'are', 'lots', 'of', 'kids', 'around', 'here', '``', '.'], ['scotty', 'looked', 'at', 'the', 'children', ',', 'his', 'mouth', 'slightly', 'opened', ',', 'his', 'eyes', 'dull', '.'], ['he', 'felt', 'tired', 'and', 'full', 'and', 'calm', '.'], ['thirty-four', 'the', 'days', 'seemed', 'short', ',', 'perhaps', 'because', 'his', 'routine', 'was', ',', 'each', 'day', ',', 'almost', 'the', 'same', '.'], ['he', 'rose', 'late', 'and', 'went', 'down', 'in', 'his', 'bathrobe', 'and', 'slippers', 'to', 'have', 'breakfast', 'either', 'alone', 'or', 'with', 'rachel', '.'], ['virginia', 'treated', 'him', 'with', 'attention', 'and', 'tried', 'to', 'tempt', 'his', 'appetite', 'with', 'special', 'food', ':', 'biscuits', ',', 'cookies', ',', 'candies', '--', 'the', 'result', 'of', 'devoted', 'hours', 'in', 'the', 'tiled', 'kitchen', '.'], ['she', 'would', 'hover', 'over', 'him', 'and', ',', 'looking', 'like', 'her', 'brother', ',', 'anxiously', 'watch', 'the', 'progress', 'of', 'scotty', \"'s\", 'fork', 'or', 'spoon', '.'], ['``', 'you', 'do', \"n't\", 'eat', 'enough', ',', 'honey', '.'], ['try', 'to', 'get', 'that', 'down', '``', '.'], ['rachel', ',', 'observing', ',', 'would', 'say', ',', '``', 'he', 'has', 'to', 'rediscover', 'his', 'own', 'capacity', '.'], ['it', \"'ll\", 'take', 'time', '``', '.'], ['virginia', 'and', 'rachel', 'talked', 'to', 'each', 'other', 'quietly', 'now', ',', 'as', 'allies', 'who', 'are', 'political', 'rather', 'than', 'natural', 'might', 'in', 'a', 'war', 'atmosphere', '.'], ['both', 'watched', 'scotty', 'constantly', ',', 'rachel', 'without', 'seeming', 'to', ',', 'virginia', 'openly', ',', 'her', 'eyes', 'filled', 'with', 'concern', '.']]\n"
          ]
        }
      ],
      "source": [
        "import nltk\n",
        "from nltk.tokenize import word_tokenize\n",
        "from nltk.inference.tableau import Categories\n",
        "import re\n",
        "from nltk.corpus import brown\n",
        "from nltk.corpus import stopwords\n",
        "from nltk import sent_tokenize\n",
        "# nltk.download('punkt')\n",
        "# nltk.download('brown')\n",
        "# nltk.download('averaged_perceptron_tagger')\n",
        "\n",
        "text = ' '.join(brown.words(categories = 'fiction')[:998])\n",
        "text = text.lower()\n",
        "text_sents = sent_tokenize(text)\n",
        "print(text_sents)\n",
        "text_words = [word_tokenize(s) for s in text_sents]\n",
        "print(text_words)\n",
        "\n",
        "#cleaned_text = re.sub(r'\\d', '', text)"
      ]
    },
    {
      "cell_type": "code",
      "execution_count": 3,
      "metadata": {
        "colab": {
          "base_uri": "https://localhost:8080/"
        },
        "id": "monZDPAoaEnE",
        "outputId": "c034d8d4-c03e-44d2-c2b5-052e252a8cf5"
      },
      "outputs": [
        {
          "name": "stdout",
          "output_type": "stream",
          "text": [
            "[['thirty-three', 'scotty', 'go', 'back', 'school', '.'], ['parents', 'talked', 'seriously', 'lengthily', 'doctor', 'specialist', 'university', 'hospital', '--', 'mr.', 'mckinley', 'entitled', 'discount', 'members', 'family', '--', 'decided', 'would', 'best', 'take', 'remainder', 'term', ',', 'spend', 'lot', 'time', 'bed', ',', 'rest', ',', 'pretty', 'much', 'chose', '--', 'provided', ',', 'course', ',', 'chose', 'nothing', 'exciting', 'debilitating', '.'], ['teacher', 'school', 'principal', 'conferred', 'everyone', 'agreed', ',', 'kept', 'certain', 'amount', 'work', 'home', ',', 'little', 'danger', 'losing', 'term', '.'], ['scotty', 'accepted', 'decision', 'indifference', 'enter', 'arguments', '.'], ['discharged', 'hospital', 'two-day', 'checkup', 'parents', 'mr.', 'mckinley', 'described', '``', 'celebration', 'lunch', '``', 'cafeteria', 'campus', '.'], ['rachel', 'wore', 'smart', 'hat', ',', 'warned', 'recently', 'smoking', ',', 'puffed', 'cigarettes', 'long', 'ivory', 'holder', 'stained', 'lipstick', '.'], ['scotty', \"'s\", 'father', 'sat', 'sprawled', 'chair', ',', 'angular', ',', 'alert', 'cricket', ',', 'looking', 'huge', 'stainless-steel', 'appointments', 'room', 'expression', 'proprietorship', '.'], ['teachers', '--', 'men', 'wore', 'brown', 'suits', 'gray', 'hair', 'pleasant', 'smiles', '--', 'came', 'table', 'talk', 'shop', 'introduced', 'scotty', 'rachel', '.'], ['rachel', 'polite', ',', 'scotty', 'indifferent', '.'], ['ate', 'cafeteria', 'food', 'orange', 'sauces', 'scotty', 'gazed', 'without', 'interest', 'food', ',', 'teachers', ',', 'heroic', 'baronial', 'windows', ',', 'bright', 'ranks', 'college', 'banners', '.'], ['father', 'tried', 'make', 'food', 'topic', '.'], ['``', 'blueberry', 'pie', 'good', ',', 'scotty', '.'], ['recommend', '``', '.'], ['looked', 'son', ',', 'face', 'worried', '.'], ['scotty', 'murmured', ',', '``', ',', 'thanks', '``', ',', 'softly', 'father', 'bend', 'gaunt', 'height', 'across', 'table', 'turn', 'round', 'brown', 'ear', '.'], ['scotty', 'regarded', 'ear', 'grizzled', 'hair', 'around', 'moment', 'interest', '.'], ['said', 'loudly', ',', '``', \"'m\", 'full', ',', 'old', 'pop', '``', '.'], ['eaten', 'almost', 'nothing', 'crested', ',', 'three-sectioned', 'plate', 'drunk', 'half', 'milk', 'paper', 'container', '.'], ['``', \"'s\", 'right', ',', 'craig', '``', ',', 'rachel', 'said', '.'], ['``', 'fix', 'something', 'later', 'afternoon', 'get', 'home', '``', '.'], ['since', 'seizure', ',', 'scotty', 'little', 'appetite', ';', ';', 'yet', 'changed', 'appearance', ',', 'surprisingly', ',', 'one', 'plumpness', '.'], ['face', 'fuller', ';', ';', 'lips', 'usually', 'sharp', 'lines', 'jaw', 'become', 'swollen-looking', '.'], ['breathed', 'mouth', 'open', ',', 'showing', 'whitely', 'curving', 'section', 'lower', 'teeth', ';', ';', 'kept', 'eyes', ',', 'puffed', 'blurred', 'lids', ',', 'always', 'lowered', ',', 'though', ',', 'apparently', ',', 'focusing', '.'], ['even', 'neck', 'seemed', 'thicker', ',', 'therefore', ',', 'shorter', '.'], ['hands', ',', 'quick', 'pair', 'fluttering', 'birds', ',', 'neither', 'active', 'really', 'relaxed', '.'], ['lay', 'lap', ',', 'palms', ',', 'stiffly', 'motionless', ',', 'tapered', 'fingers', 'little', 'thick', 'joints', '.'], ['altogether', ',', 'since', 'seizure', ',', 'appearance', 'boy', 'overindulged', 'food', 'took', 'exercise', '.'], ['looked', 'lazy', ',', 'spoiled', ',', 'little', 'querulous', '.'], ['rachel', 'little', 'say', '.'], ['greeted', 'husband', \"'s\", 'colleagues', 'smiling', 'politeness', ',', 'offering', 'nothing', '.'], ['mr.', 'mckinley', ',', 'sprawling', 'easy', 'familiarity', ',', 'completely', 'alert', 'son', ',', 'eyes', 'always', 'still', 'face', ',', 'jumping', 'anticipate', 'scotty', \"'s\", 'desires', '.'], ['strained', ',', 'silent', 'lunch', '.'], ['rachel', 'said', ',', '``', \"'d\", 'better', 'get', 'bed', '``', '.'], ['doctors', 'suggested', 'scotty', 'remain', 'every', 'afternoon', 'bed', 'stronger', '.'], ['since', 'mr.', 'mckinley', 'give', 'lecture', ',', 'rachel', 'scotty', 'drove', 'home', 'alone', 'plymouth', '.'], ['speak', 'much', '.'], ['scotty', 'gazed', 'ugly', 'gray', 'slums', 'said', 'softly', ',', '``', 'look', 'stupid', 'kids', '``', '.'], ['negro', 'section', 'peeling', 'row', 'houses', ',', 'store-front', 'churches', 'ragged', 'children', '.'], ['rachel', 'bend', 'toward', 'scotty', 'ask', 'repeat', '.'], ['said', ',', '``', 'nothing', '``', '.'], [':', '``', 'lots', 'kids', 'around', '``', '.'], ['scotty', 'looked', 'children', ',', 'mouth', 'slightly', 'opened', ',', 'eyes', 'dull', '.'], ['felt', 'tired', 'full', 'calm', '.'], ['thirty-four', 'days', 'seemed', 'short', ',', 'perhaps', 'routine', ',', 'day', ',', 'almost', '.'], ['rose', 'late', 'went', 'bathrobe', 'slippers', 'breakfast', 'either', 'alone', 'rachel', '.'], ['virginia', 'treated', 'attention', 'tried', 'tempt', 'appetite', 'special', 'food', ':', 'biscuits', ',', 'cookies', ',', 'candies', '--', 'result', 'devoted', 'hours', 'tiled', 'kitchen', '.'], ['would', 'hover', ',', 'looking', 'like', 'brother', ',', 'anxiously', 'watch', 'progress', 'scotty', \"'s\", 'fork', 'spoon', '.'], ['``', \"n't\", 'eat', 'enough', ',', 'honey', '.'], ['try', 'get', '``', '.'], ['rachel', ',', 'observing', ',', 'would', 'say', ',', '``', 'rediscover', 'capacity', '.'], [\"'ll\", 'take', 'time', '``', '.'], ['virginia', 'rachel', 'talked', 'quietly', ',', 'allies', 'political', 'rather', 'natural', 'might', 'war', 'atmosphere', '.'], ['watched', 'scotty', 'constantly', ',', 'rachel', 'without', 'seeming', ',', 'virginia', 'openly', ',', 'eyes', 'filled', 'concern', '.']]\n"
          ]
        },
        {
          "name": "stderr",
          "output_type": "stream",
          "text": [
            "[nltk_data] Error loading stopwords: <urlopen error [Errno 11001]\n",
            "[nltk_data]     getaddrinfo failed>\n"
          ]
        }
      ],
      "source": [
        "import nltk\n",
        "nltk.download('stopwords')\n",
        "\n",
        "#to remove stopwords\n",
        "stop_words = nltk.corpus.stopwords.words('english')\n",
        "sents_nostops = []\n",
        "for s in text_words:\n",
        "    iner_list =[]\n",
        "    for w in s:\n",
        "        if w not in stop_words:\n",
        "           iner_list.append(w)\n",
        "    sents_nostops.append(iner_list)\n",
        "print(sents_nostops[:100])"
      ]
    },
    {
      "cell_type": "code",
      "execution_count": 4,
      "metadata": {
        "colab": {
          "base_uri": "https://localhost:8080/"
        },
        "id": "zr_oqIAYj5Ao",
        "outputId": "9ccd83c8-c160-4149-f8d9-7cd7df14b91a"
      },
      "outputs": [
        {
          "name": "stdout",
          "output_type": "stream",
          "text": [
            "[['thirtythree', 'scotty', 'did', 'not', 'go', 'back', 'to', 'school'], ['his', 'parents', 'talked', 'seriously', 'and', 'lengthily', 'to', 'their', 'own', 'doctor', 'and', 'to', 'a', 'specialist', 'at', 'the', 'university', 'hospital', 'mr', 'mckinley', 'was', 'entitled', 'to', 'a', 'discount', 'for', 'members', 'of', 'his', 'family', 'and', 'it', 'was', 'decided', 'it', 'would', 'be', 'best', 'for', 'him', 'to', 'take', 'the', 'remainder', 'of', 'the', 'term', 'off', 'spend', 'a', 'lot', 'of', 'time', 'in', 'bed', 'and', 'for', 'the', 'rest', 'do', 'pretty', 'much', 'as', 'he', 'chose', 'provided', 'of', 'course', 'he', 'chose', 'to', 'do', 'nothing', 'too', 'exciting', 'or', 'too', 'debilitating'], ['his', 'teacher', 'and', 'his', 'school', 'principal', 'were', 'conferred', 'with', 'and', 'everyone', 'agreed', 'that', 'if', 'he', 'kept', 'up', 'with', 'a', 'certain', 'amount', 'of', 'work', 'at', 'home', 'there', 'was', 'little', 'danger', 'of', 'his', 'losing', 'a', 'term'], ['scotty', 'accepted', 'the', 'decision', 'with', 'indifference', 'and', 'did', 'not', 'enter', 'the', 'arguments'], ['he', 'was', 'discharged', 'from', 'the', 'hospital', 'after', 'a', 'twoday', 'checkup', 'and', 'he', 'and', 'his', 'parents', 'had', 'what', 'mr', 'mckinley', 'described', 'as', 'a', 'celebration', 'lunch', 'at', 'the', 'cafeteria', 'on', 'the', 'campus'], ['rachel', 'wore', 'a', 'smart', 'hat', 'and', 'because', 'she', 'had', 'been', 'warned', 'recently', 'about', 'smoking', 'puffed', 'at', 'her', 'cigarettes', 'through', 'a', 'long', 'ivory', 'holder', 'stained', 'with', 'lipstick'], ['scotty', 's', 'father', 'sat', 'sprawled', 'in', 'his', 'chair', 'angular', 'alert', 'as', 'a', 'cricket', 'looking', 'about', 'at', 'the', 'huge', 'stainlesssteel', 'appointments', 'of', 'the', 'room', 'with', 'an', 'expression', 'of', 'proprietorship'], ['teachers', 'men', 'who', 'wore', 'brown', 'suits', 'and', 'had', 'gray', 'hair', 'and', 'pleasant', 'smiles', 'came', 'to', 'their', 'table', 'to', 'talk', 'shop', 'and', 'to', 'be', 'introduced', 'to', 'scotty', 'and', 'rachel'], ['rachel', 'was', 'polite', 'scotty', 'indifferent'], ['they', 'ate', 'the', 'cafeteria', 'food', 'with', 'its', 'orange', 'sauces', 'and', 'scotty', 'gazed', 'without', 'interest', 'at', 'his', 'food', 'the', 'teachers', 'the', 'heroic', 'baronial', 'windows', 'and', 'the', 'bright', 'ranks', 'of', 'college', 'banners'], ['his', 'father', 'tried', 'to', 'make', 'the', 'food', 'a', 'topic'], ['the', 'blueberry', 'pie', 'is', 'good', 'scotty'], ['i', 'recommend', 'it'], ['he', 'looked', 'at', 'his', 'son', 'his', 'face', 'worried'], ['scotty', 'murmured', 'no', 'thanks', 'so', 'softly', 'his', 'father', 'had', 'to', 'bend', 'his', 'gaunt', 'height', 'across', 'the', 'table', 'and', 'turn', 'a', 'round', 'brown', 'ear', 'to', 'him'], ['scotty', 'regarded', 'the', 'ear', 'and', 'the', 'grizzled', 'hair', 'around', 'it', 'with', 'a', 'moment', 'of', 'interest'], ['he', 'said', 'more', 'loudly', 'i', 'm', 'full', 'old', 'pop'], ['he', 'had', 'eaten', 'almost', 'nothing', 'on', 'the', 'crested', 'threesectioned', 'plate', 'and', 'had', 'drunk', 'about', 'half', 'the', 'milk', 'in', 'its', 'paper', 'container'], ['he', 's', 'all', 'right', 'craig', 'rachel', 'said'], ['i', 'can', 'fix', 'him', 'something', 'later', 'in', 'the', 'afternoon', 'when', 'we', 'get', 'home'], ['since', 'his', 'seizure', 'scotty', 'had', 'had', 'little', 'appetite', 'yet', 'his', 'changed', 'appearance', 'surprisingly', 'was', 'one', 'of', 'plumpness'], ['his', 'face', 'was', 'fuller', 'his', 'lips', 'and', 'the', 'usually', 'sharp', 'lines', 'of', 'his', 'jaw', 'had', 'become', 'swollenlooking'], ['he', 'breathed', 'now', 'with', 'his', 'mouth', 'open', 'showing', 'a', 'whitely', 'curving', 'section', 'of', 'lower', 'teeth', 'he', 'kept', 'his', 'eyes', 'with', 'their', 'puffed', 'blurred', 'lids', 'always', 'lowered', 'though', 'not', 'apparently', 'focusing'], ['even', 'his', 'neck', 'seemed', 'thicker', 'and', 'therefore', 'shorter'], ['his', 'hands', 'which', 'had', 'been', 'as', 'quick', 'as', 'a', 'pair', 'of', 'fluttering', 'birds', 'were', 'now', 'neither', 'active', 'nor', 'really', 'relaxed'], ['they', 'lay', 'on', 'his', 'lap', 'palms', 'up', 'stiffly', 'motionless', 'the', 'tapered', 'fingers', 'a', 'little', 'thick', 'at', 'the', 'joints'], ['altogether', 'he', 'had', 'since', 'the', 'seizure', 'the', 'appearance', 'of', 'a', 'boy', 'who', 'overindulged', 'in', 'food', 'and', 'took', 'no', 'exercise'], ['he', 'looked', 'lazy', 'spoiled', 'a', 'little', 'querulous'], ['rachel', 'had', 'little', 'to', 'say'], ['she', 'greeted', 'her', 'husband', 's', 'colleagues', 'with', 'smiling', 'politeness', 'offering', 'nothing'], ['mr', 'mckinley', 'for', 'all', 'his', 'sprawling', 'and', 'his', 'easy', 'familiarity', 'was', 'completely', 'alert', 'to', 'his', 'son', 'eyes', 'always', 'on', 'the', 'still', 'face', 'jumping', 'to', 'anticipate', 'scotty', 's', 'desires'], ['it', 'was', 'a', 'strained', 'silent', 'lunch'], ['rachel', 'said', 'i', 'd', 'better', 'get', 'him', 'to', 'bed'], ['the', 'doctors', 'had', 'suggested', 'scotty', 'remain', 'most', 'of', 'every', 'afternoon', 'in', 'bed', 'until', 'he', 'was', 'stronger'], ['since', 'mr', 'mckinley', 'had', 'to', 'give', 'a', 'lecture', 'rachel', 'and', 'scotty', 'drove', 'home', 'alone', 'in', 'the', 'plymouth'], ['they', 'did', 'not', 'speak', 'much'], ['scotty', 'gazed', 'out', 'at', 'ugly', 'gray', 'slums', 'and', 'said', 'softly', 'look', 'at', 'those', 'stupid', 'kids'], ['it', 'was', 'a', 'negro', 'section', 'of', 'peeling', 'row', 'houses', 'storefront', 'churches', 'and', 'ragged', 'children'], ['rachel', 'had', 'to', 'bend', 'toward', 'scotty', 'and', 'ask', 'him', 'to', 'repeat'], ['he', 'said', 'nothing'], ['and', 'then', 'there', 'are', 'lots', 'of', 'kids', 'around', 'here'], ['scotty', 'looked', 'at', 'the', 'children', 'his', 'mouth', 'slightly', 'opened', 'his', 'eyes', 'dull'], ['he', 'felt', 'tired', 'and', 'full', 'and', 'calm'], ['thirtyfour', 'the', 'days', 'seemed', 'short', 'perhaps', 'because', 'his', 'routine', 'was', 'each', 'day', 'almost', 'the', 'same'], ['he', 'rose', 'late', 'and', 'went', 'down', 'in', 'his', 'bathrobe', 'and', 'slippers', 'to', 'have', 'breakfast', 'either', 'alone', 'or', 'with', 'rachel'], ['virginia', 'treated', 'him', 'with', 'attention', 'and', 'tried', 'to', 'tempt', 'his', 'appetite', 'with', 'special', 'food', 'biscuits', 'cookies', 'candies', 'the', 'result', 'of', 'devoted', 'hours', 'in', 'the', 'tiled', 'kitchen'], ['she', 'would', 'hover', 'over', 'him', 'and', 'looking', 'like', 'her', 'brother', 'anxiously', 'watch', 'the', 'progress', 'of', 'scotty', 's', 'fork', 'or', 'spoon'], ['you', 'do', 'nt', 'eat', 'enough', 'honey'], ['try', 'to', 'get', 'that', 'down'], ['rachel', 'observing', 'would', 'say', 'he', 'has', 'to', 'rediscover', 'his', 'own', 'capacity'], ['it', 'll', 'take', 'time'], ['virginia', 'and', 'rachel', 'talked', 'to', 'each', 'other', 'quietly', 'now', 'as', 'allies', 'who', 'are', 'political', 'rather', 'than', 'natural', 'might', 'in', 'a', 'war', 'atmosphere'], ['both', 'watched', 'scotty', 'constantly', 'rachel', 'without', 'seeming', 'to', 'virginia', 'openly', 'her', 'eyes', 'filled', 'with', 'concern']]\n"
          ]
        }
      ],
      "source": [
        "import string\n",
        "table = str.maketrans('', '', string.punctuation)\n",
        "text_stripped = []\n",
        "for s in text_words:\n",
        "  l =[]\n",
        "  for w in s:\n",
        "    w=w.translate(table)\n",
        "    if w == '':\n",
        "      continue\n",
        "    else:\n",
        "      l.append(w)\n",
        "  text_stripped.append(l)\n",
        "\n",
        "\n",
        "print(text_stripped)"
      ]
    },
    {
      "cell_type": "markdown",
      "metadata": {
        "id": "7QonO65LJcvi"
      },
      "source": [
        "# task3 (features + classification)"
      ]
    },
    {
      "cell_type": "code",
      "execution_count": 6,
      "metadata": {
        "colab": {
          "base_uri": "https://localhost:8080/"
        },
        "id": "0GR7Htb5dgVB",
        "outputId": "7170e542-90c7-4c97-edc5-3c982f706856"
      },
      "outputs": [
        {
          "name": "stdout",
          "output_type": "stream",
          "text": [
            "Sentence:\n",
            "thirtythree scotty did not go\n",
            "\n",
            "Tags:\n",
            "JJ NN VBD RB VB\n",
            "*************************\n",
            "Sentence:\n",
            "his parents talked seriously and\n",
            "\n",
            "Tags:\n",
            "PRP$ NNS VBD RB CC\n",
            "*************************\n",
            "Sentence:\n",
            "his teacher and his school\n",
            "\n",
            "Tags:\n",
            "PRP$ NN CC PRP$ NN\n",
            "*************************\n",
            "Sentence:\n",
            "scotty accepted the decision with\n",
            "\n",
            "Tags:\n",
            "RB VBD DT NN IN\n",
            "*************************\n",
            "Sentence:\n",
            "he was discharged from the\n",
            "\n",
            "Tags:\n",
            "PRP VBD VBN IN DT\n",
            "*************************\n",
            "Sentence:\n",
            "rachel wore a smart hat\n",
            "\n",
            "Tags:\n",
            "NN VBD DT JJ NN\n",
            "*************************\n",
            "Sentence:\n",
            "scotty s father sat sprawled\n",
            "\n",
            "Tags:\n",
            "JJ NN NN VBD VBN\n",
            "*************************\n",
            "Sentence:\n",
            "teachers men who wore brown\n",
            "\n",
            "Tags:\n",
            "NNS NNS WP VBD JJ\n",
            "*************************\n",
            "Sentence:\n",
            "rachel was polite scotty indifferent\n",
            "\n",
            "Tags:\n",
            "NN VBD JJ JJ NN\n",
            "*************************\n",
            "Sentence:\n",
            "they ate the cafeteria food\n",
            "\n",
            "Tags:\n",
            "PRP VBP DT NN NN\n",
            "*************************\n",
            "Sentence:\n",
            "his father tried to make\n",
            "\n",
            "Tags:\n",
            "PRP$ NN VBD TO VB\n",
            "*************************\n",
            "Sentence:\n",
            "the blueberry pie is good\n",
            "\n",
            "Tags:\n",
            "DT NN NN VBZ JJ\n",
            "*************************\n",
            "Sentence:\n",
            "i recommend it\n",
            "\n",
            "Tags:\n",
            "JJ VBP PRP\n",
            "*************************\n",
            "Sentence:\n",
            "he looked at his son\n",
            "\n",
            "Tags:\n",
            "PRP VBD IN PRP$ NN\n",
            "*************************\n",
            "Sentence:\n",
            "scotty murmured no thanks so\n",
            "\n",
            "Tags:\n",
            "RB VBN DT NNS RB\n",
            "*************************\n",
            "Sentence:\n",
            "scotty regarded the ear and\n",
            "\n",
            "Tags:\n",
            "RB VBD DT NN CC\n",
            "*************************\n",
            "Sentence:\n",
            "he said more loudly i\n",
            "\n",
            "Tags:\n",
            "PRP VBD RBR RB JJ\n",
            "*************************\n",
            "Sentence:\n",
            "he had eaten almost nothing\n",
            "\n",
            "Tags:\n",
            "PRP VBD VBN RB NN\n",
            "*************************\n",
            "Sentence:\n",
            "he s all right craig\n",
            "\n",
            "Tags:\n",
            "PRP VBD DT JJ NN\n",
            "*************************\n",
            "Sentence:\n",
            "i can fix him something\n",
            "\n",
            "Tags:\n",
            "NN MD VB PRP NN\n",
            "*************************\n",
            "Sentence:\n",
            "since his seizure scotty had\n",
            "\n",
            "Tags:\n",
            "IN PRP$ NN NN VBD\n",
            "*************************\n",
            "Sentence:\n",
            "his face was fuller his\n",
            "\n",
            "Tags:\n",
            "PRP$ NN VBD VBN PRP$\n",
            "*************************\n",
            "Sentence:\n",
            "he breathed now with his\n",
            "\n",
            "Tags:\n",
            "PRP VBD RB IN PRP$\n",
            "*************************\n",
            "Sentence:\n",
            "even his neck seemed thicker\n",
            "\n",
            "Tags:\n",
            "RB PRP$ NN VBD NN\n",
            "*************************\n",
            "Sentence:\n",
            "his hands which had been\n",
            "\n",
            "Tags:\n",
            "PRP$ NNS WDT VBD VBN\n",
            "*************************\n",
            "Sentence:\n",
            "they lay on his lap\n",
            "\n",
            "Tags:\n",
            "PRP VBD IN PRP$ NN\n",
            "*************************\n",
            "Sentence:\n",
            "altogether he had since the\n",
            "\n",
            "Tags:\n",
            "RB PRP VBD IN DT\n",
            "*************************\n",
            "Sentence:\n",
            "he looked lazy spoiled a\n",
            "\n",
            "Tags:\n",
            "PRP VBD RB VBN DT\n",
            "*************************\n",
            "Sentence:\n",
            "rachel had little to say\n",
            "\n",
            "Tags:\n",
            "NN VBD JJ TO VB\n",
            "*************************\n",
            "Sentence:\n",
            "she greeted her husband s\n",
            "\n",
            "Tags:\n",
            "PRP VBD PRP NN NN\n",
            "*************************\n",
            "Sentence:\n",
            "mr mckinley for all his\n",
            "\n",
            "Tags:\n",
            "NN NN IN DT PRP$\n",
            "*************************\n",
            "Sentence:\n",
            "it was a strained silent\n",
            "\n",
            "Tags:\n",
            "PRP VBD DT JJ NN\n",
            "*************************\n",
            "Sentence:\n",
            "rachel said i d better\n",
            "\n",
            "Tags:\n",
            "NN VBD JJ VBP RBR\n",
            "*************************\n",
            "Sentence:\n",
            "the doctors had suggested scotty\n",
            "\n",
            "Tags:\n",
            "DT NNS VBD VBN RB\n",
            "*************************\n",
            "Sentence:\n",
            "since mr mckinley had to\n",
            "\n",
            "Tags:\n",
            "IN NN NN VBD TO\n",
            "*************************\n",
            "Sentence:\n",
            "they did not speak much\n",
            "\n",
            "Tags:\n",
            "PRP VBD RB VB JJ\n",
            "*************************\n",
            "Sentence:\n",
            "scotty gazed out at ugly\n",
            "\n",
            "Tags:\n",
            "RB VBN RP IN RB\n",
            "*************************\n",
            "Sentence:\n",
            "it was a negro section\n",
            "\n",
            "Tags:\n",
            "PRP VBD DT JJ NN\n",
            "*************************\n",
            "Sentence:\n",
            "rachel had to bend toward\n",
            "\n",
            "Tags:\n",
            "NN VBD TO VB IN\n",
            "*************************\n",
            "Sentence:\n",
            "he said nothing\n",
            "\n",
            "Tags:\n",
            "PRP VBD NN\n",
            "*************************\n",
            "Sentence:\n",
            "and then there are lots\n",
            "\n",
            "Tags:\n",
            "CC RB EX VBP NNS\n",
            "*************************\n",
            "Sentence:\n",
            "scotty looked at the children\n",
            "\n",
            "Tags:\n",
            "NN VBD IN DT NNS\n",
            "*************************\n",
            "Sentence:\n",
            "he felt tired and full\n",
            "\n",
            "Tags:\n",
            "PRP VBD JJ CC JJ\n",
            "*************************\n",
            "Sentence:\n",
            "thirtyfour the days seemed short\n",
            "\n",
            "Tags:\n",
            "VB DT NNS VBD JJ\n",
            "*************************\n",
            "Sentence:\n",
            "he rose late and went\n",
            "\n",
            "Tags:\n",
            "PRP VBD JJ CC VBD\n",
            "*************************\n",
            "Sentence:\n",
            "virginia treated him with attention\n",
            "\n",
            "Tags:\n",
            "RB VBD PRP IN NN\n",
            "*************************\n",
            "Sentence:\n",
            "she would hover over him\n",
            "\n",
            "Tags:\n",
            "PRP MD VB IN PRP\n",
            "*************************\n",
            "Sentence:\n",
            "you do nt eat enough\n",
            "\n",
            "Tags:\n",
            "PRP VBP RB VB JJ\n",
            "*************************\n",
            "Sentence:\n",
            "try to get that down\n",
            "\n",
            "Tags:\n",
            "NN TO VB DT RP\n",
            "*************************\n",
            "Sentence:\n",
            "rachel observing would say he\n",
            "\n",
            "Tags:\n",
            "NN VBG MD VB PRP\n",
            "*************************\n",
            "Sentence:\n",
            "it ll take time\n",
            "\n",
            "Tags:\n",
            "PRP VBD VB NN\n",
            "*************************\n",
            "Sentence:\n",
            "virginia and rachel talked to\n",
            "\n",
            "Tags:\n",
            "NN CC NN VBD TO\n",
            "*************************\n",
            "Sentence:\n",
            "both watched scotty constantly rachel\n",
            "\n",
            "Tags:\n",
            "DT VBD RB RB VB\n",
            "*************************\n"
          ]
        }
      ],
      "source": [
        "\n",
        "sent_list = []\n",
        "tags_list = []\n",
        "for sentence in text_stripped:\n",
        "    #tokens = nltk.word_tokenize(sentence)\n",
        "    tagged = nltk.pos_tag(sentence)\n",
        "    sent = ' '.join(word for word, tag in tagged[0:5])\n",
        "    sent_list.append(sent)\n",
        "\n",
        "    tags = ' '.join(tag for word, tag in tagged[0:5])\n",
        "    tags_list.append(tags)\n",
        "\n",
        "    print(\"Sentence:\")\n",
        "    print(sent)\n",
        "    print(\"\\nTags:\")\n",
        "    print(tags)\n",
        "    print('*************************')"
      ]
    },
    {
      "cell_type": "markdown",
      "metadata": {
        "id": "AlgX3NeYzKsI"
      },
      "source": [
        "#"
      ]
    },
    {
      "cell_type": "code",
      "execution_count": 9,
      "metadata": {
        "id": "hN0gLgGDwmPv"
      },
      "outputs": [],
      "source": [
        "from sklearn.model_selection import train_test_split\n",
        "from sklearn.naive_bayes import MultinomialNB\n",
        "from sklearn.tree import DecisionTreeClassifier\n",
        "from sklearn.metrics import accuracy_score , confusion_matrix\n",
        "from sklearn.feature_extraction.text import TfidfVectorizer , CountVectorizer\n",
        "import pandas as pd"
      ]
    },
    {
      "cell_type": "markdown",
      "metadata": {
        "id": "LTQpgNUI0Wpy"
      },
      "source": [
        "**=> Naive Bayes Classifier**"
      ]
    },
    {
      "cell_type": "code",
      "execution_count": 8,
      "metadata": {
        "colab": {
          "base_uri": "https://localhost:8080/"
        },
        "id": "9K50ysqutdW7",
        "outputId": "61a9d759-cf51-42a8-8e8e-c0109ff73028"
      },
      "outputs": [
        {
          "name": "stdout",
          "output_type": "stream",
          "text": [
            "(42, 147)\n",
            "(11, 147)\n",
            "0.0\n",
            "[[0 0 0 0 0 0 0 0 0 0 0 0 0]\n",
            " [0 0 0 0 0 0 0 0 0 0 0 0 0]\n",
            " [0 0 0 0 0 1 0 0 0 0 0 0 0]\n",
            " [1 0 0 0 0 0 0 0 0 0 0 0 0]\n",
            " [0 0 0 0 0 1 0 0 0 0 0 0 0]\n",
            " [0 0 0 0 0 0 0 0 0 0 0 0 0]\n",
            " [0 0 0 0 0 2 0 0 0 0 0 0 0]\n",
            " [0 0 0 0 0 1 0 0 0 0 0 0 0]\n",
            " [0 0 0 0 0 1 0 0 0 0 0 0 0]\n",
            " [0 1 0 0 0 0 0 0 0 0 0 0 0]\n",
            " [0 0 0 0 0 1 0 0 0 0 0 0 0]\n",
            " [1 0 0 0 0 0 0 0 0 0 0 0 0]\n",
            " [0 0 0 0 0 1 0 0 0 0 0 0 0]]\n"
          ]
        }
      ],
      "source": [
        "#$feature selection with BINARY & NB\n",
        "\n",
        "#Binary vectorizer\n",
        "vectorizer = CountVectorizer(binary=True)\n",
        "features_binary = vectorizer.fit_transform(sent_list)\n",
        "\n",
        "pd.DataFrame(features_binary.toarray(),columns = vectorizer.vocabulary_.keys())\n",
        "\n",
        "#text & train\n",
        "\n",
        "x_train,x_test,y_train,y_test = train_test_split(features_binary,tags_list,test_size=.2)\n",
        "print(x_train.shape)\n",
        "print(x_test.shape)\n",
        "\n",
        "#classefication\n",
        "model = MultinomialNB()\n",
        "model.fit(x_train,y_train)\n",
        "\n",
        "#accuracy test\n",
        "predicted = model.predict(x_test)\n",
        "print(accuracy_score(y_test,predicted))\n",
        "\n",
        "#confusion matrix\n",
        "print(confusion_matrix(y_test,predicted))"
      ]
    },
    {
      "cell_type": "code",
      "execution_count": 10,
      "metadata": {
        "colab": {
          "base_uri": "https://localhost:8080/"
        },
        "id": "FPYWmGyT3vPt",
        "outputId": "a46167ef-a0d9-4d77-cb9a-28d53ad9aafc"
      },
      "outputs": [
        {
          "name": "stdout",
          "output_type": "stream",
          "text": [
            "(42, 147)\n",
            "(11, 147)\n",
            "0.09090909090909091\n",
            "[[0 1 0 0 0 0 0 0 0 0 0 0 0 0 0 0 0 0]\n",
            " [0 0 0 0 0 0 0 0 0 0 0 0 0 0 0 0 0 0]\n",
            " [0 0 0 0 1 0 0 0 0 0 0 0 0 0 0 0 0 0]\n",
            " [0 0 0 0 0 0 0 0 0 0 0 0 0 0 0 0 0 0]\n",
            " [0 0 0 0 0 0 0 0 0 0 0 0 0 0 0 0 0 0]\n",
            " [0 0 0 0 0 0 0 0 0 0 0 1 0 0 0 0 0 0]\n",
            " [0 0 0 1 0 0 0 0 0 0 0 0 0 0 0 0 0 0]\n",
            " [0 0 0 0 0 0 0 1 0 0 0 0 0 0 0 0 0 0]\n",
            " [0 0 0 0 0 0 0 0 0 0 0 0 0 0 0 0 0 0]\n",
            " [0 0 0 0 0 0 0 0 0 0 0 0 0 0 0 0 0 0]\n",
            " [0 0 0 0 0 0 0 0 0 1 0 0 0 0 0 0 0 0]\n",
            " [0 0 0 0 0 0 0 0 0 0 0 0 0 0 0 0 0 0]\n",
            " [0 0 0 0 0 0 0 1 0 0 0 0 0 0 0 0 0 0]\n",
            " [0 0 0 0 0 0 0 0 1 0 0 0 0 0 0 0 0 0]\n",
            " [0 0 0 0 0 0 0 0 0 0 0 0 0 0 0 0 0 0]\n",
            " [0 0 0 0 0 0 0 0 1 0 0 0 0 0 0 0 0 0]\n",
            " [0 0 0 0 0 0 0 0 0 0 0 0 0 0 1 0 0 0]\n",
            " [0 1 0 0 0 0 0 0 0 0 0 0 0 0 0 0 0 0]]\n"
          ]
        }
      ],
      "source": [
        "#$feature selection with count & NB\n",
        "\n",
        "#Count vectorizer\n",
        "vectorizer = CountVectorizer(binary=False)\n",
        "features_count = vectorizer.fit_transform(sent_list)\n",
        "\n",
        "#train & test\n",
        "x_train,x_test,y_train,y_test = train_test_split(features_count,tags_list,test_size=.2)\n",
        "print(x_train.shape)\n",
        "print(x_test.shape)\n",
        "\n",
        "#classefication\n",
        "model = MultinomialNB()\n",
        "model.fit(x_train,y_train)\n",
        "\n",
        "#accuracy test\n",
        "predicted = model.predict(x_test)\n",
        "print(accuracy_score(y_test,predicted))\n",
        "\n",
        "#confusion matrix\n",
        "print(confusion_matrix(y_test,predicted))"
      ]
    },
    {
      "cell_type": "code",
      "execution_count": 11,
      "metadata": {
        "colab": {
          "base_uri": "https://localhost:8080/"
        },
        "id": "Oz-3Jl194Ccs",
        "outputId": "413291a4-eae2-4894-d47f-567c364d3e28"
      },
      "outputs": [
        {
          "name": "stdout",
          "output_type": "stream",
          "text": [
            "(42, 147)\n",
            "(11, 147)\n",
            "0.0\n",
            "[[0 0 0 0 0 0 0 1 0 0 0 0]\n",
            " [0 0 0 0 0 0 0 1 0 0 0 0]\n",
            " [0 0 0 0 0 0 0 1 0 0 0 0]\n",
            " [0 0 0 0 0 0 0 1 0 0 0 0]\n",
            " [0 0 0 0 0 0 0 1 0 0 0 0]\n",
            " [0 0 0 0 0 0 0 1 0 0 0 0]\n",
            " [0 0 0 0 0 0 0 1 0 0 0 0]\n",
            " [0 0 0 0 0 0 0 0 0 0 0 0]\n",
            " [0 0 0 0 0 0 0 1 0 0 0 0]\n",
            " [0 0 0 0 0 0 0 1 0 0 0 0]\n",
            " [0 0 0 0 0 0 0 1 0 0 0 0]\n",
            " [0 0 0 0 0 0 0 1 0 0 0 0]]\n"
          ]
        }
      ],
      "source": [
        "##$feature selection with TF-IDF & NB\n",
        "\n",
        "#Tf-idf\n",
        "vectorizer = TfidfVectorizer()\n",
        "features_tf = vectorizer.fit_transform(sent_list)\n",
        "\n",
        "x_train,x_test,y_train,y_test = train_test_split(features_tf,tags_list,test_size=.2)\n",
        "print(x_train.shape)\n",
        "print(x_test.shape)\n",
        "\n",
        "#classefication\n",
        "model = MultinomialNB()\n",
        "model.fit(x_train,y_train)\n",
        "\n",
        "#accuracy test\n",
        "predicted = model.predict(x_test)\n",
        "print(accuracy_score(y_test,predicted))\n",
        "\n",
        "#confusion matrix\n",
        "print(confusion_matrix(y_test,predicted))"
      ]
    },
    {
      "cell_type": "markdown",
      "metadata": {
        "id": "kc9H4Igr0JXZ"
      },
      "source": [
        "**=> Decision Tree Classifier**"
      ]
    },
    {
      "cell_type": "code",
      "execution_count": 104,
      "metadata": {
        "colab": {
          "base_uri": "https://localhost:8080/"
        },
        "id": "tBq7YZSUzmYa",
        "outputId": "73d11268-2674-42dd-d583-458ccb3bd634"
      },
      "outputs": [
        {
          "name": "stdout",
          "output_type": "stream",
          "text": [
            "(42, 147)\n",
            "(11, 147)\n",
            "0.09090909090909091\n"
          ]
        }
      ],
      "source": [
        "#$feature selection with BINARY & DTree\n",
        "\n",
        "#Binary vectorizer\n",
        "vectorizer = CountVectorizer(binary=True)\n",
        "features_binary = vectorizer.fit_transform(sent_list)\n",
        "\n",
        "pd.DataFrame(features_binary.toarray(),columns = vectorizer.vocabulary_.keys())\n",
        "\n",
        "#text & train\n",
        "\n",
        "x_train,x_test,y_train,y_test = train_test_split(features_binary,tags_list,test_size=.2)\n",
        "print(x_train.shape)\n",
        "print(x_test.shape)\n",
        "\n",
        "#classefication\n",
        "model = DecisionTreeClassifier()\n",
        "model.fit(x_train,y_train)\n",
        "\n",
        "#accuracy test\n",
        "predicted = model.predict(x_test)\n",
        "print(accuracy_score(y_test,predicted))\n",
        "\n",
        "#confusion matrix\n",
        "print(confusion_matrix(y_test,predicted))"
      ]
    },
    {
      "cell_type": "code",
      "execution_count": 108,
      "metadata": {
        "colab": {
          "base_uri": "https://localhost:8080/"
        },
        "id": "GQ_y7XaC0vc7",
        "outputId": "6f8792fb-0c94-4059-f28c-225d4f7380cf"
      },
      "outputs": [
        {
          "name": "stdout",
          "output_type": "stream",
          "text": [
            "(42, 147)\n",
            "(11, 147)\n",
            "0.09090909090909091\n",
            "[[0 0 0 0 0 0 0 1 0 0 0 0 0 0 0 0 0]\n",
            " [0 0 0 0 0 0 0 0 0 0 0 0 0 0 0 0 0]\n",
            " [0 0 0 0 1 0 0 0 0 0 0 0 0 0 0 0 0]\n",
            " [0 0 0 0 0 0 0 0 0 0 0 0 0 0 0 0 0]\n",
            " [0 0 0 0 0 0 0 0 0 0 0 0 0 0 0 0 0]\n",
            " [0 0 0 1 0 0 0 0 0 0 0 0 0 0 0 0 0]\n",
            " [0 0 0 0 0 0 0 0 0 0 0 0 0 0 0 1 0]\n",
            " [0 0 0 0 0 0 0 1 0 0 0 0 0 0 0 0 0]\n",
            " [0 0 0 0 0 0 0 0 0 0 0 0 0 0 0 0 0]\n",
            " [0 0 0 0 0 0 0 0 0 0 0 0 0 0 0 0 1]\n",
            " [0 0 0 0 0 0 0 0 0 0 0 0 0 0 0 0 1]\n",
            " [0 0 0 0 0 0 0 0 1 0 0 0 0 0 0 0 0]\n",
            " [0 0 0 0 0 0 0 0 1 0 0 0 0 0 0 0 0]\n",
            " [0 0 0 0 0 0 0 0 1 0 0 0 0 0 0 0 0]\n",
            " [0 1 0 0 0 0 0 0 0 0 0 0 0 0 0 0 0]\n",
            " [0 0 0 0 0 0 0 0 0 0 0 0 0 0 0 0 0]\n",
            " [0 0 0 0 0 0 0 0 0 0 0 0 0 0 0 0 0]]\n"
          ]
        }
      ],
      "source": [
        "#$feature selection with Count & DTree\n",
        "\n",
        "#Count vectorizer\n",
        "vectorizer = CountVectorizer(binary=True)\n",
        "features_binary = vectorizer.fit_transform(sent_list)\n",
        "\n",
        "pd.DataFrame(features_binary.toarray(),columns = vectorizer.vocabulary_.keys())\n",
        "\n",
        "#text & train\n",
        "\n",
        "x_train,x_test,y_train,y_test = train_test_split(features_count,tags_list,test_size=.2)\n",
        "print(x_train.shape)\n",
        "print(x_test.shape)\n",
        "\n",
        "#classefication\n",
        "model = DecisionTreeClassifier()\n",
        "model.fit(x_train,y_train)\n",
        "\n",
        "#accuracy test\n",
        "predicted = model.predict(x_test)\n",
        "print(accuracy_score(y_test,predicted))\n",
        "\n",
        "#confusion matrix\n",
        "print(confusion_matrix(y_test,predicted))"
      ]
    },
    {
      "cell_type": "code",
      "execution_count": 11,
      "metadata": {
        "colab": {
          "base_uri": "https://localhost:8080/"
        },
        "id": "WODYNwbs1DT5",
        "outputId": "56e79bcc-d0f0-4c1f-f170-3a643431dc7b"
      },
      "outputs": [
        {
          "name": "stdout",
          "output_type": "stream",
          "text": [
            "(42, 147)\n",
            "(11, 147)\n",
            "0.09090909090909091\n",
            "[[0 0 0 0 0 1 0 0 0 0 0 0 0 0 0]\n",
            " [0 0 0 0 0 0 0 0 0 0 0 0 0 0 0]\n",
            " [0 0 0 0 0 0 0 0 0 0 0 0 0 0 0]\n",
            " [0 1 0 0 0 0 0 0 0 0 0 0 0 0 0]\n",
            " [0 0 1 0 0 0 0 0 0 0 0 0 0 0 0]\n",
            " [0 0 0 0 0 1 0 0 0 0 0 0 0 0 0]\n",
            " [0 0 0 0 0 0 0 0 0 0 0 0 0 0 0]\n",
            " [0 0 0 0 0 1 0 0 0 0 0 0 0 0 0]\n",
            " [0 0 0 0 0 1 0 0 0 0 0 0 0 0 0]\n",
            " [0 0 0 0 0 1 0 0 0 0 0 0 0 0 0]\n",
            " [0 0 0 0 0 0 1 0 0 0 0 0 0 0 0]\n",
            " [0 0 0 0 0 0 0 0 0 0 0 0 0 0 0]\n",
            " [0 0 0 0 0 1 0 0 0 0 0 0 0 0 0]\n",
            " [0 0 0 0 0 0 1 0 0 0 0 0 0 0 0]\n",
            " [0 0 0 0 0 0 0 0 0 0 0 1 0 0 0]]\n"
          ]
        }
      ],
      "source": [
        "#$feature selection with TF & DTree\n",
        "\n",
        "#TF vectorizer\n",
        "vectorizer = TfidfVectorizer(binary=True)\n",
        "features_tf = vectorizer.fit_transform(sent_list)\n",
        "\n",
        "pd.DataFrame(features_binary.toarray(),columns = vectorizer.vocabulary_.keys())\n",
        "\n",
        "#text & train\n",
        "\n",
        "x_train,x_test,y_train,y_test = train_test_split(features_tf,tags_list,test_size=.2)\n",
        "print(x_train.shape)\n",
        "print(x_test.shape)\n",
        "\n",
        "#classefication\n",
        "model = DecisionTreeClassifier()\n",
        "model.fit(x_train,y_train)\n",
        "\n",
        "#accuracy test\n",
        "predicted = model.predict(x_test)\n",
        "print(accuracy_score(y_test,predicted))\n",
        "\n",
        "#confusion matrix\n",
        "print(confusion_matrix(y_test,predicted))"
      ]
    }
  ],
  "metadata": {
    "colab": {
      "collapsed_sections": [
        "1Sc9MLXBbNYG"
      ],
      "provenance": []
    },
    "kernelspec": {
      "display_name": "Python 3",
      "name": "python3"
    },
    "language_info": {
      "codemirror_mode": {
        "name": "ipython",
        "version": 3
      },
      "file_extension": ".py",
      "mimetype": "text/x-python",
      "name": "python",
      "nbconvert_exporter": "python",
      "pygments_lexer": "ipython3",
      "version": "3.8.2"
    }
  },
  "nbformat": 4,
  "nbformat_minor": 0
}
